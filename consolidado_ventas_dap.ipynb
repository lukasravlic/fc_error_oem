{
 "cells": [
  {
   "cell_type": "markdown",
   "metadata": {},
   "source": []
  },
  {
   "cell_type": "code",
   "execution_count": 1,
   "metadata": {},
   "outputs": [],
   "source": [
    "import pandas as pd"
   ]
  },
  {
   "cell_type": "code",
   "execution_count": 7,
   "metadata": {},
   "outputs": [],
   "source": [
    "df = pd.read_parquet('consolidado_fc_error.parquet')"
   ]
  },
  {
   "cell_type": "code",
   "execution_count": 9,
   "metadata": {},
   "outputs": [
    {
     "data": {
      "text/plain": [
       "Index(['ID2', 'Periodo', 'UE_2', 'fc', 'fc_anas', 'Venta', 'Prom.',\n",
       "       'Total instock', 'MAPE_AJUSTADO', 'ERP', 'ERN', 'MAPE_ANASTASIA',\n",
       "       'ERP_ANASTASIA', 'ERN_ANASTASIA', 'WMAPE', 'WMAPE.1', 'Mes',\n",
       "       'Costo Promedio Ponderado', 'Costo de Venta', 'Forecast en Costo',\n",
       "       'MAPE Costo', 'ERP Costo', 'ERN Costo', 'WMAPE Costo', 'Input',\n",
       "       'Material_R3', 'Sector_dsc', 'Unnamed: 0'],\n",
       "      dtype='object')"
      ]
     },
     "execution_count": 9,
     "metadata": {},
     "output_type": "execute_result"
    }
   ],
   "source": [
    "df.columns"
   ]
  },
  {
   "cell_type": "code",
   "execution_count": 10,
   "metadata": {},
   "outputs": [],
   "source": [
    "df = df[['UE_2', 'Mes','Venta']]"
   ]
  },
  {
   "cell_type": "code",
   "execution_count": 11,
   "metadata": {},
   "outputs": [],
   "source": [
    "df.rename(columns={'UE_2':'Material', 'Mes':'Fecha'}, inplace=True)\n"
   ]
  },
  {
   "cell_type": "code",
   "execution_count": 18,
   "metadata": {},
   "outputs": [
    {
     "data": {
      "text/plain": [
       "Fecha\n",
       "2023-01-01    105913\n",
       "2023-02-01    105946\n",
       "2023-03-01    105345\n",
       "2023-04-01    104282\n",
       "2023-05-01    102886\n",
       "2023-06-01    102630\n",
       "2023-07-01    102084\n",
       "2023-08-01    126801\n",
       "2023-09-01    127498\n",
       "2023-10-01    128165\n",
       "2023-11-01    154271\n",
       "2023-12-01    156644\n",
       "2024-01-01    156656\n",
       "2024-01-02    157310\n",
       "2024-03-01    160176\n",
       "2024-04-29    161101\n",
       "2024-05-07    162786\n",
       "2024-06-04    165997\n",
       "2024-07-02    165910\n",
       "2024-08-06    219585\n",
       "2024-09-04    209894\n",
       "2024-10-07    211146\n",
       "2024-11-08    327370\n",
       "Name: count, dtype: int64"
      ]
     },
     "execution_count": 18,
     "metadata": {},
     "output_type": "execute_result"
    }
   ],
   "source": [
    "df['Fecha'].value_counts().sort_index()"
   ]
  },
  {
   "cell_type": "code",
   "execution_count": 15,
   "metadata": {},
   "outputs": [],
   "source": [
    "df.to_csv('consolidado_ventas_oem_nov.csv')"
   ]
  }
 ],
 "metadata": {
  "kernelspec": {
   "display_name": "Python 3",
   "language": "python",
   "name": "python3"
  },
  "language_info": {
   "codemirror_mode": {
    "name": "ipython",
    "version": 3
   },
   "file_extension": ".py",
   "mimetype": "text/x-python",
   "name": "python",
   "nbconvert_exporter": "python",
   "pygments_lexer": "ipython3",
   "version": "3.12.0"
  }
 },
 "nbformat": 4,
 "nbformat_minor": 2
}
