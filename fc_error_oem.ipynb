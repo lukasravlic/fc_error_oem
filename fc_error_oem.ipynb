{
 "cells": [
  {
   "cell_type": "code",
   "execution_count": 1,
   "metadata": {},
   "outputs": [],
   "source": [
    "# Librerías para manipulación y análisis de datos\n",
    "\n",
    "import pandas as pd\n",
    "import datetime\n",
    "from datetime import datetime\n",
    "import os\n",
    "from dateutil.relativedelta import relativedelta    \n",
    "from datetime import timedelta\n",
    "\n",
    "\n",
    "import glob\n",
    "import getpass\n"
   ]
  },
  {
   "cell_type": "code",
   "execution_count": 2,
   "metadata": {},
   "outputs": [],
   "source": [
    "# Obtiene el nombre de usuario del sistema operativo actual\n",
    "nombre_usuario = getpass.getuser()"
   ]
  },
  {
   "cell_type": "code",
   "execution_count": 3,
   "metadata": {},
   "outputs": [
    {
     "name": "stdout",
     "output_type": "stream",
     "text": [
      "n_1: 2025-01\n",
      "n_4: 2024-10\n",
      "01.2025\n",
      "10.2024\n"
     ]
    }
   ],
   "source": [
    "# Obtiene la fecha actual\n",
    "hoy = datetime.today()\n",
    "\n",
    "# Obtiene el año actual\n",
    "año = hoy.year\n",
    "\n",
    "# Obtiene el año actual con dos dígitos\n",
    "año_2 = año % 100\n",
    "\n",
    "# Obtiene el número de mes actual\n",
    "numero_mes = hoy.month\n",
    "\n",
    "# Obtiene la fecha actual en formato YYYY-MM\n",
    "fecha_n = hoy.strftime('%Y-%m')\n",
    "\n",
    "# Obtiene la fecha actual en formato MM.YYYY\n",
    "numero_mes_punto = hoy.strftime('%m.%Y')\n",
    "\n",
    "# Obtiene la fecha de hace un mes\n",
    "n_date = hoy - relativedelta(months=1)\n",
    "\n",
    "# Obtiene la fecha de hace dos meses\n",
    "n_1_date = hoy - relativedelta(months=2)\n",
    "\n",
    "# Obtiene la fecha de hace cinco meses\n",
    "n_4_date = hoy - relativedelta(months=5)\n",
    "\n",
    "# Obtiene la fecha de hace dos meses en formato YYYY-MM\n",
    "n_1 = n_1_date.strftime(\"%Y-%m\")\n",
    "\n",
    "# Obtiene la fecha de hace cinco meses en formato YYYY-MM\n",
    "n_4 = n_4_date.strftime(\"%Y-%m\")\n",
    "\n",
    "# Obtiene la fecha de hace dos meses en formato MM.YYYY\n",
    "n1_punto = n_1_date.strftime(\"%m.%Y\")\n",
    "\n",
    "# Obtiene la fecha de hace cinco meses en formato MM.YYYY\n",
    "n4_punto = n_4_date.strftime(\"%m.%Y\")\n",
    "\n",
    "# Imprime las variables\n",
    "print(\"n_1:\", n_1)\n",
    "print(\"n_4:\", n_4)\n",
    "print(n1_punto)\n",
    "print(n4_punto)\n",
    "\n"
   ]
  },
  {
   "cell_type": "code",
   "execution_count": 4,
   "metadata": {},
   "outputs": [],
   "source": [
    "# Crea una cadena con la fecha del primer día del mes anterior\n",
    "n_b_fc = n_date.strftime('%Y-%m' + '-01')"
   ]
  },
  {
   "cell_type": "code",
   "execution_count": 5,
   "metadata": {},
   "outputs": [
    {
     "name": "stdout",
     "output_type": "stream",
     "text": [
      "Enero\n",
      "Octubre\n"
     ]
    }
   ],
   "source": [
    "#Funcion que entrega el nombre correspondiente al numero del mes\n",
    "#input: numero de mes\n",
    "#output: nombre de dicho mes\n",
    "def obtener_nombre_mes(numero_mes):\n",
    "    meses = {\n",
    "        1: \"Enero\",\n",
    "        2: \"Febrero\",\n",
    "        3: \"Marzo\",\n",
    "        4: \"Abril\",\n",
    "        5: \"Mayo\",\n",
    "        6: \"Junio\",\n",
    "        7: \"Julio\",\n",
    "        8: \"Agosto\",\n",
    "        9: \"Septiembre\",\n",
    "        10: \"Octubre\",\n",
    "        11: \"Noviembre\",\n",
    "        12: \"Diciembre\"\n",
    "    }\n",
    "    return meses.get(numero_mes, \"Mes no válido\")\n",
    "\n",
    "# se crean variables de meses relativos a los peridos de medicion n-1 y n-4\n",
    "mes_n1 = (hoy - relativedelta(months=2)).month\n",
    "mes_n4 = (hoy - relativedelta(months=5)).month\n",
    "ciclo_n1 = (hoy - relativedelta(months=1)).month\n",
    "ciclo_n4 = (hoy - relativedelta(months=4)).month\n",
    "\n",
    "\n",
    "#se obtienen nombres de dichos meses\n",
    "nombre_mes_n1 = obtener_nombre_mes(mes_n1)\n",
    "nombre_mes_n4 = obtener_nombre_mes(mes_n4)\n",
    "nombre_ciclo_n1 = obtener_nombre_mes(ciclo_n1)\n",
    "nombre_ciclo_n4 = obtener_nombre_mes(ciclo_n4)\n",
    "nombre_numero_mes = obtener_nombre_mes(numero_mes)\n",
    "\n",
    "\n",
    "# Imprimir el nombre del mes anterior\n",
    "print(nombre_mes_n1)\n",
    "print(nombre_mes_n4)\n"
   ]
  },
  {
   "cell_type": "code",
   "execution_count": 71,
   "metadata": {},
   "outputs": [
    {
     "ename": "PermissionError",
     "evalue": "[Errno 13] Permission denied: 'C:/Users/lravlic/Inchcape/Planificación y Compras Chile - Documentos/Bases Indicadores en CSV 2025-03/FORECAST N-4.xlsx'",
     "output_type": "error",
     "traceback": [
      "\u001b[1;31m---------------------------------------------------------------------------\u001b[0m",
      "\u001b[1;31mPermissionError\u001b[0m                           Traceback (most recent call last)",
      "Cell \u001b[1;32mIn[71], line 8\u001b[0m\n\u001b[0;32m      3\u001b[0m ruta_n4 \u001b[38;5;241m=\u001b[39m \u001b[38;5;124mf\u001b[39m\u001b[38;5;124m\"\u001b[39m\u001b[38;5;124mC:/Users/\u001b[39m\u001b[38;5;132;01m{\u001b[39;00mnombre_usuario\u001b[38;5;132;01m}\u001b[39;00m\u001b[38;5;124m/Inchcape/Planificación y Compras Chile - Documentos/Bases Indicadores en CSV \u001b[39m\u001b[38;5;132;01m{\u001b[39;00m\u001b[38;5;28mstr\u001b[39m(hoy\u001b[38;5;241m.\u001b[39myear)\u001b[38;5;132;01m}\u001b[39;00m\u001b[38;5;124m-\u001b[39m\u001b[38;5;132;01m{\u001b[39;00m\u001b[38;5;28mstr\u001b[39m(hoy\u001b[38;5;241m.\u001b[39mmonth)\u001b[38;5;241m.\u001b[39mzfill(\u001b[38;5;241m2\u001b[39m)\u001b[38;5;132;01m}\u001b[39;00m\u001b[38;5;124m/FORECAST N-4.xlsx\u001b[39m\u001b[38;5;124m\"\u001b[39m\n\u001b[0;32m      5\u001b[0m \u001b[38;5;66;03m#se leen los archivos con pandas\u001b[39;00m\n\u001b[1;32m----> 8\u001b[0m df_n4 \u001b[38;5;241m=\u001b[39m \u001b[43mpd\u001b[49m\u001b[38;5;241;43m.\u001b[39;49m\u001b[43mread_excel\u001b[49m\u001b[43m(\u001b[49m\u001b[43mruta_n4\u001b[49m\u001b[43m,\u001b[49m\u001b[43m \u001b[49m\u001b[43msheet_name\u001b[49m\u001b[38;5;241;43m=\u001b[39;49m\u001b[38;5;124;43m'\u001b[39;49m\u001b[38;5;124;43mBase Forecast\u001b[39;49m\u001b[38;5;124;43m'\u001b[39;49m\u001b[43m,\u001b[49m\u001b[43m \u001b[49m\u001b[43mheader\u001b[49m\u001b[38;5;241;43m=\u001b[39;49m\u001b[38;5;241;43m2\u001b[39;49m\u001b[43m)\u001b[49m\n",
      "File \u001b[1;32mc:\\Users\\lravlic\\AppData\\Local\\Programs\\Python\\Python312\\Lib\\site-packages\\pandas\\io\\excel\\_base.py:504\u001b[0m, in \u001b[0;36mread_excel\u001b[1;34m(io, sheet_name, header, names, index_col, usecols, dtype, engine, converters, true_values, false_values, skiprows, nrows, na_values, keep_default_na, na_filter, verbose, parse_dates, date_parser, date_format, thousands, decimal, comment, skipfooter, storage_options, dtype_backend, engine_kwargs)\u001b[0m\n\u001b[0;32m    502\u001b[0m \u001b[38;5;28;01mif\u001b[39;00m \u001b[38;5;129;01mnot\u001b[39;00m \u001b[38;5;28misinstance\u001b[39m(io, ExcelFile):\n\u001b[0;32m    503\u001b[0m     should_close \u001b[38;5;241m=\u001b[39m \u001b[38;5;28;01mTrue\u001b[39;00m\n\u001b[1;32m--> 504\u001b[0m     io \u001b[38;5;241m=\u001b[39m \u001b[43mExcelFile\u001b[49m\u001b[43m(\u001b[49m\n\u001b[0;32m    505\u001b[0m \u001b[43m        \u001b[49m\u001b[43mio\u001b[49m\u001b[43m,\u001b[49m\n\u001b[0;32m    506\u001b[0m \u001b[43m        \u001b[49m\u001b[43mstorage_options\u001b[49m\u001b[38;5;241;43m=\u001b[39;49m\u001b[43mstorage_options\u001b[49m\u001b[43m,\u001b[49m\n\u001b[0;32m    507\u001b[0m \u001b[43m        \u001b[49m\u001b[43mengine\u001b[49m\u001b[38;5;241;43m=\u001b[39;49m\u001b[43mengine\u001b[49m\u001b[43m,\u001b[49m\n\u001b[0;32m    508\u001b[0m \u001b[43m        \u001b[49m\u001b[43mengine_kwargs\u001b[49m\u001b[38;5;241;43m=\u001b[39;49m\u001b[43mengine_kwargs\u001b[49m\u001b[43m,\u001b[49m\n\u001b[0;32m    509\u001b[0m \u001b[43m    \u001b[49m\u001b[43m)\u001b[49m\n\u001b[0;32m    510\u001b[0m \u001b[38;5;28;01melif\u001b[39;00m engine \u001b[38;5;129;01mand\u001b[39;00m engine \u001b[38;5;241m!=\u001b[39m io\u001b[38;5;241m.\u001b[39mengine:\n\u001b[0;32m    511\u001b[0m     \u001b[38;5;28;01mraise\u001b[39;00m \u001b[38;5;167;01mValueError\u001b[39;00m(\n\u001b[0;32m    512\u001b[0m         \u001b[38;5;124m\"\u001b[39m\u001b[38;5;124mEngine should not be specified when passing \u001b[39m\u001b[38;5;124m\"\u001b[39m\n\u001b[0;32m    513\u001b[0m         \u001b[38;5;124m\"\u001b[39m\u001b[38;5;124man ExcelFile - ExcelFile already has the engine set\u001b[39m\u001b[38;5;124m\"\u001b[39m\n\u001b[0;32m    514\u001b[0m     )\n",
      "File \u001b[1;32mc:\\Users\\lravlic\\AppData\\Local\\Programs\\Python\\Python312\\Lib\\site-packages\\pandas\\io\\excel\\_base.py:1563\u001b[0m, in \u001b[0;36mExcelFile.__init__\u001b[1;34m(self, path_or_buffer, engine, storage_options, engine_kwargs)\u001b[0m\n\u001b[0;32m   1561\u001b[0m     ext \u001b[38;5;241m=\u001b[39m \u001b[38;5;124m\"\u001b[39m\u001b[38;5;124mxls\u001b[39m\u001b[38;5;124m\"\u001b[39m\n\u001b[0;32m   1562\u001b[0m \u001b[38;5;28;01melse\u001b[39;00m:\n\u001b[1;32m-> 1563\u001b[0m     ext \u001b[38;5;241m=\u001b[39m \u001b[43minspect_excel_format\u001b[49m\u001b[43m(\u001b[49m\n\u001b[0;32m   1564\u001b[0m \u001b[43m        \u001b[49m\u001b[43mcontent_or_path\u001b[49m\u001b[38;5;241;43m=\u001b[39;49m\u001b[43mpath_or_buffer\u001b[49m\u001b[43m,\u001b[49m\u001b[43m \u001b[49m\u001b[43mstorage_options\u001b[49m\u001b[38;5;241;43m=\u001b[39;49m\u001b[43mstorage_options\u001b[49m\n\u001b[0;32m   1565\u001b[0m \u001b[43m    \u001b[49m\u001b[43m)\u001b[49m\n\u001b[0;32m   1566\u001b[0m     \u001b[38;5;28;01mif\u001b[39;00m ext \u001b[38;5;129;01mis\u001b[39;00m \u001b[38;5;28;01mNone\u001b[39;00m:\n\u001b[0;32m   1567\u001b[0m         \u001b[38;5;28;01mraise\u001b[39;00m \u001b[38;5;167;01mValueError\u001b[39;00m(\n\u001b[0;32m   1568\u001b[0m             \u001b[38;5;124m\"\u001b[39m\u001b[38;5;124mExcel file format cannot be determined, you must specify \u001b[39m\u001b[38;5;124m\"\u001b[39m\n\u001b[0;32m   1569\u001b[0m             \u001b[38;5;124m\"\u001b[39m\u001b[38;5;124man engine manually.\u001b[39m\u001b[38;5;124m\"\u001b[39m\n\u001b[0;32m   1570\u001b[0m         )\n",
      "File \u001b[1;32mc:\\Users\\lravlic\\AppData\\Local\\Programs\\Python\\Python312\\Lib\\site-packages\\pandas\\io\\excel\\_base.py:1419\u001b[0m, in \u001b[0;36minspect_excel_format\u001b[1;34m(content_or_path, storage_options)\u001b[0m\n\u001b[0;32m   1416\u001b[0m \u001b[38;5;28;01mif\u001b[39;00m \u001b[38;5;28misinstance\u001b[39m(content_or_path, \u001b[38;5;28mbytes\u001b[39m):\n\u001b[0;32m   1417\u001b[0m     content_or_path \u001b[38;5;241m=\u001b[39m BytesIO(content_or_path)\n\u001b[1;32m-> 1419\u001b[0m \u001b[38;5;28;01mwith\u001b[39;00m \u001b[43mget_handle\u001b[49m\u001b[43m(\u001b[49m\n\u001b[0;32m   1420\u001b[0m \u001b[43m    \u001b[49m\u001b[43mcontent_or_path\u001b[49m\u001b[43m,\u001b[49m\u001b[43m \u001b[49m\u001b[38;5;124;43m\"\u001b[39;49m\u001b[38;5;124;43mrb\u001b[39;49m\u001b[38;5;124;43m\"\u001b[39;49m\u001b[43m,\u001b[49m\u001b[43m \u001b[49m\u001b[43mstorage_options\u001b[49m\u001b[38;5;241;43m=\u001b[39;49m\u001b[43mstorage_options\u001b[49m\u001b[43m,\u001b[49m\u001b[43m \u001b[49m\u001b[43mis_text\u001b[49m\u001b[38;5;241;43m=\u001b[39;49m\u001b[38;5;28;43;01mFalse\u001b[39;49;00m\n\u001b[0;32m   1421\u001b[0m \u001b[43m\u001b[49m\u001b[43m)\u001b[49m \u001b[38;5;28;01mas\u001b[39;00m handle:\n\u001b[0;32m   1422\u001b[0m     stream \u001b[38;5;241m=\u001b[39m handle\u001b[38;5;241m.\u001b[39mhandle\n\u001b[0;32m   1423\u001b[0m     stream\u001b[38;5;241m.\u001b[39mseek(\u001b[38;5;241m0\u001b[39m)\n",
      "File \u001b[1;32mc:\\Users\\lravlic\\AppData\\Local\\Programs\\Python\\Python312\\Lib\\site-packages\\pandas\\io\\common.py:872\u001b[0m, in \u001b[0;36mget_handle\u001b[1;34m(path_or_buf, mode, encoding, compression, memory_map, is_text, errors, storage_options)\u001b[0m\n\u001b[0;32m    863\u001b[0m         handle \u001b[38;5;241m=\u001b[39m \u001b[38;5;28mopen\u001b[39m(\n\u001b[0;32m    864\u001b[0m             handle,\n\u001b[0;32m    865\u001b[0m             ioargs\u001b[38;5;241m.\u001b[39mmode,\n\u001b[1;32m   (...)\u001b[0m\n\u001b[0;32m    868\u001b[0m             newline\u001b[38;5;241m=\u001b[39m\u001b[38;5;124m\"\u001b[39m\u001b[38;5;124m\"\u001b[39m,\n\u001b[0;32m    869\u001b[0m         )\n\u001b[0;32m    870\u001b[0m     \u001b[38;5;28;01melse\u001b[39;00m:\n\u001b[0;32m    871\u001b[0m         \u001b[38;5;66;03m# Binary mode\u001b[39;00m\n\u001b[1;32m--> 872\u001b[0m         handle \u001b[38;5;241m=\u001b[39m \u001b[38;5;28;43mopen\u001b[39;49m\u001b[43m(\u001b[49m\u001b[43mhandle\u001b[49m\u001b[43m,\u001b[49m\u001b[43m \u001b[49m\u001b[43mioargs\u001b[49m\u001b[38;5;241;43m.\u001b[39;49m\u001b[43mmode\u001b[49m\u001b[43m)\u001b[49m\n\u001b[0;32m    873\u001b[0m     handles\u001b[38;5;241m.\u001b[39mappend(handle)\n\u001b[0;32m    875\u001b[0m \u001b[38;5;66;03m# Convert BytesIO or file objects passed with an encoding\u001b[39;00m\n",
      "\u001b[1;31mPermissionError\u001b[0m: [Errno 13] Permission denied: 'C:/Users/lravlic/Inchcape/Planificación y Compras Chile - Documentos/Bases Indicadores en CSV 2025-03/FORECAST N-4.xlsx'"
     ]
    }
   ],
   "source": [
    "#Se especifican las rutas de los archivos de forecast para los ciclos n-1 y n-4\n",
    "ruta_n1 = f\"C:/Users/{nombre_usuario}/Inchcape/Planificación y Compras Chile - Documentos/Bases Indicadores en CSV {str(hoy.year)}-{str(hoy.month).zfill(2)}/FORECAST N-1.xlsx\"\n",
    "ruta_n4 = f\"C:/Users/{nombre_usuario}/Inchcape/Planificación y Compras Chile - Documentos/Bases Indicadores en CSV {str(hoy.year)}-{str(hoy.month).zfill(2)}/FORECAST N-4.xlsx\"\n",
    "\n",
    "#se leen los archivos con pandas\n",
    "\n",
    "\n",
    "df_n4 = pd.read_excel(ruta_n4, sheet_name='Base Forecast', header=2)"
   ]
  },
  {
   "cell_type": "code",
   "execution_count": 216,
   "metadata": {},
   "outputs": [],
   "source": [
    "df_n1 = pd.read_excel(ruta_n1, sheet_name= 'Base Forecast',header=2)"
   ]
  },
  {
   "cell_type": "code",
   "execution_count": 6,
   "metadata": {},
   "outputs": [],
   "source": [
    "#localizacion de el archivo de codigo actual para las cadenas de reemplazo\n",
    "maestro = f\"C:/Users/{nombre_usuario}/Inchcape/Planificación y Compras Chile - Documentos/Bases Indicadores en CSV {str(hoy.year)}-{str(hoy.month).zfill(2)}\"\n",
    "dir_maestro = os.listdir(maestro)\n",
    "\n",
    "for a in dir_maestro:\n",
    "\n",
    "#     if str(hoy.year) in c_año:\n",
    "#         c_carpeta = os.path.join(maestro, c_año)\n",
    "#         c_mes = os.listdir(c_carpeta)\n",
    "#         c_arch = os.path.join(c_carpeta, c_mes[-1])\n",
    "#         archivos = os.listdir(c_arch)\n",
    "#         print(archivos)\n",
    "\n",
    "    if 'COD_ACTUAL' in a:\n",
    "        ruta_cad = os.path.join(maestro, a)\n",
    "        cadena_de_remplazo = pd.read_csv(ruta_cad, usecols= ['Nro_pieza_fabricante_1',\t'Cod_Actual_1'] )"
   ]
  },
  {
   "cell_type": "code",
   "execution_count": 11,
   "metadata": {},
   "outputs": [
    {
     "name": "stdout",
     "output_type": "stream",
     "text": [
      "C:/Users/lravlic/Inchcape/Planificación y Compras Chile - Documentos/Bases Indicadores en CSV 2025-03\\03.2025 BaseVentaOEM Sell In PBI.xlsx\n"
     ]
    }
   ],
   "source": [
    "ventas = f\"C:/Users/{nombre_usuario}/Inchcape/Planificación y Compras Chile - Documentos/Bases Indicadores en CSV {str(hoy.year)}-{str(hoy.month).zfill(2)}\"\n",
    "dir_maestro = os.listdir(maestro)\n",
    "\n",
    "for a in dir_maestro:\n",
    "\n",
    "#     if str(hoy.year) in c_año:\n",
    "#         c_carpeta = os.path.join(maestro, c_año)\n",
    "#         c_mes = os.listdir(c_carpeta)\n",
    "#         c_arch = os.path.join(c_carpeta, c_mes[-1])\n",
    "#         archivos = os.listdir(c_arch)\n",
    "#         print(archivos)\n",
    "\n",
    "    if 'Sell In PBI' in a:\n",
    "        ruta_ventas = os.path.join(ventas, a)\n",
    "        print(ruta_ventas)\n",
    "df_ventas= pd.read_excel(ruta_ventas, sheet_name='Base Venta Sell In OEM', dtype={'Último Eslabón':'str'},header=2)        \n",
    "df_ventas_p= pd.read_excel(ruta_ventas, sheet_name='TD BV', header=3, dtype={'Último Eslabón':'str'})\n",
    "df_ventas_p = df_ventas_p[['Último Eslabón', 'Prom.']]\n"
   ]
  },
  {
   "cell_type": "code",
   "execution_count": 49,
   "metadata": {},
   "outputs": [
    {
     "data": {
      "application/vnd.microsoft.datawrangler.viewer.v0+json": {
       "columns": [
        {
         "name": "index",
         "rawType": "int64",
         "type": "integer"
        },
        {
         "name": "Unnamed: 0",
         "rawType": "int64",
         "type": "integer"
        },
        {
         "name": "Último Eslabón",
         "rawType": "object",
         "type": "string"
        },
        {
         "name": "Prom.",
         "rawType": "float64",
         "type": "float"
        }
       ],
       "conversionMethod": "pd.DataFrame",
       "ref": "dae9423f-0a3a-4a44-ab2d-f0bff830dccf",
       "rows": [
        [
         "55999",
         "55999",
         "EA0120400",
         "536.0"
        ]
       ],
       "shape": {
        "columns": 3,
        "rows": 1
       }
      },
      "text/html": [
       "<div>\n",
       "<style scoped>\n",
       "    .dataframe tbody tr th:only-of-type {\n",
       "        vertical-align: middle;\n",
       "    }\n",
       "\n",
       "    .dataframe tbody tr th {\n",
       "        vertical-align: top;\n",
       "    }\n",
       "\n",
       "    .dataframe thead th {\n",
       "        text-align: right;\n",
       "    }\n",
       "</style>\n",
       "<table border=\"1\" class=\"dataframe\">\n",
       "  <thead>\n",
       "    <tr style=\"text-align: right;\">\n",
       "      <th></th>\n",
       "      <th>Unnamed: 0</th>\n",
       "      <th>Último Eslabón</th>\n",
       "      <th>Prom.</th>\n",
       "    </tr>\n",
       "  </thead>\n",
       "  <tbody>\n",
       "    <tr>\n",
       "      <th>55999</th>\n",
       "      <td>55999</td>\n",
       "      <td>EA0120400</td>\n",
       "      <td>536.0</td>\n",
       "    </tr>\n",
       "  </tbody>\n",
       "</table>\n",
       "</div>"
      ],
      "text/plain": [
       "       Unnamed: 0 Último Eslabón  Prom.\n",
       "55999       55999      EA0120400  536.0"
      ]
     },
     "execution_count": 49,
     "metadata": {},
     "output_type": "execute_result"
    }
   ],
   "source": [
    "df_ventas_p[df_ventas_p['Último Eslabón']=='EA0120400']"
   ]
  },
  {
   "cell_type": "code",
   "execution_count": 250,
   "metadata": {},
   "outputs": [],
   "source": [
    "df_n4.to_csv('df_n4.csv')"
   ]
  },
  {
   "cell_type": "code",
   "execution_count": 251,
   "metadata": {},
   "outputs": [],
   "source": [
    "df_n1.to_csv('df_n1.csv')\n",
    "\n"
   ]
  },
  {
   "cell_type": "code",
   "execution_count": 13,
   "metadata": {},
   "outputs": [],
   "source": [
    "df_ventas.to_csv('ventas.csv')\n",
    "df_ventas_p.to_csv('ventas_p.csv')"
   ]
  },
  {
   "cell_type": "code",
   "execution_count": 14,
   "metadata": {},
   "outputs": [
    {
     "name": "stderr",
     "output_type": "stream",
     "text": [
      "C:\\Users\\lravlic\\AppData\\Local\\Temp\\ipykernel_15440\\2503777051.py:1: DtypeWarning: Columns (3,4,7,89,92,101,126) have mixed types. Specify dtype option on import or set low_memory=False.\n",
      "  df_n1=pd.read_csv('df_n1.csv')\n",
      "C:\\Users\\lravlic\\AppData\\Local\\Temp\\ipykernel_15440\\2503777051.py:2: DtypeWarning: Columns (4,5,6,9,116,117,127,130,131,132,162) have mixed types. Specify dtype option on import or set low_memory=False.\n",
      "  df_n4=pd.read_csv('df_n4.csv')\n",
      "C:\\Users\\lravlic\\AppData\\Local\\Temp\\ipykernel_15440\\2503777051.py:3: DtypeWarning: Columns (4,6) have mixed types. Specify dtype option on import or set low_memory=False.\n",
      "  df_ventas= pd.read_csv('ventas.csv')\n"
     ]
    }
   ],
   "source": [
    "df_n1=pd.read_csv('df_n1.csv')\n",
    "df_n4=pd.read_csv('df_n4.csv')\n",
    "df_ventas= pd.read_csv('ventas.csv')\n",
    "df_ventas_p = pd.read_csv('ventas_p.csv')"
   ]
  },
  {
   "cell_type": "code",
   "execution_count": 15,
   "metadata": {},
   "outputs": [],
   "source": [
    "df_n1['Último Eslabón'] = df_n1['Último Eslabón'].astype('str')\n",
    "df_n1 = pd.merge(df_n1,cadena_de_remplazo, left_on='Último Eslabón', right_on='Nro_pieza_fabricante_1', how='left')\n",
    "\n",
    "# # #df_n1 = df_n1.drop(['Cod_Actual_1','Nro_pieza_fabricante_1','Cod_Actual_1_UE2','Nro_pieza_fabricante_1_UE2','Cod_Actual_1_Cod_Actual_1', 'Nro_pieza_fabricante_1_Cod_Actual_1'], axis=1)\n",
    "# # #df_n4['Ult. Eslabón'] = df_n4['Ult. Eslabón'].astype('str')\n",
    "#df_n4 = pd.merge(df_n4,cadena_de_remplazo, left_on='Material R3', right_on='Nro_pieza_fabricante_1', how='left')\n",
    "\n"
   ]
  },
  {
   "cell_type": "code",
   "execution_count": 16,
   "metadata": {},
   "outputs": [],
   "source": [
    "df_n4['Último Eslabón'] = df_n4['Último Eslabón'].astype('str')\n",
    "df_n4 = pd.merge(df_n4,cadena_de_remplazo, left_on='Último Eslabón', right_on='Nro_pieza_fabricante_1', how='left')"
   ]
  },
  {
   "cell_type": "code",
   "execution_count": 17,
   "metadata": {},
   "outputs": [],
   "source": [
    "df_n1['Cod_Actual_1'] = df_n1['Cod_Actual_1'].fillna(df_n1['Último Eslabón'])\n",
    "\n",
    "df_n4['Cod_Actual_1'] = df_n4['Cod_Actual_1'].fillna(df_n4['Último Eslabón'])\n"
   ]
  },
  {
   "cell_type": "code",
   "execution_count": 18,
   "metadata": {},
   "outputs": [],
   "source": [
    "df_n1 = df_n1.drop('Nro_pieza_fabricante_1', axis=1)\n",
    "\n",
    "df_n4 = df_n4.drop('Nro_pieza_fabricante_1', axis=1)"
   ]
  },
  {
   "cell_type": "code",
   "execution_count": 19,
   "metadata": {},
   "outputs": [],
   "source": [
    "df_n1 = df_n1.rename(columns = {'Cod_Actual_1': 'UE_2'})\n",
    "df_n4 = df_n4.rename(columns = {'Cod_Actual_1': 'UE_2'})"
   ]
  },
  {
   "cell_type": "code",
   "execution_count": 20,
   "metadata": {},
   "outputs": [],
   "source": [
    "fecha_fc_n1 = datetime.strptime(n_1, '%Y-%m')\n",
    "n_1_date = fecha_fc_n1 + relativedelta(months=1)\n",
    "fecha_fc_n4 = datetime.strptime(n_4, '%Y-%m')\n",
    "n_4_date = fecha_fc_n4 + relativedelta(months=4)\n",
    "\n",
    "busqueda_fc_n1_anas =  f'{n_b_fc} 00:00:00.2'\n",
    "busqueda_fc_n4_anas =  f'{n_b_fc} 00:00:00.1'\n",
    "\n",
    "\n",
    "\n",
    "\n",
    "\n",
    "\n",
    "\n",
    "\n",
    "\n",
    "\n"
   ]
  },
  {
   "cell_type": "code",
   "execution_count": 21,
   "metadata": {},
   "outputs": [],
   "source": [
    "desired_column_index = 55  # El índice 57 corresponde a la columna número 58\n",
    "desired_column_index_2 = 91  # El índice 57 corresponde a la columna número 58\n",
    "\n",
    "# Accede a la columna por su índice\n",
    "desired_column = df_n1.iloc[:, desired_column_index]\n",
    "desired_column_n4 = df_n4.iloc[:, desired_column_index_2]\n",
    "\n",
    "\n",
    "df_n1['fc_anas'] = desired_column\n",
    "df_n4['fc_anas'] = desired_column_n4\n"
   ]
  },
  {
   "cell_type": "code",
   "execution_count": 22,
   "metadata": {},
   "outputs": [
    {
     "data": {
      "text/plain": [
       "122727.7340007549"
      ]
     },
     "execution_count": 22,
     "metadata": {},
     "output_type": "execute_result"
    }
   ],
   "source": [
    "busqueda_fc_n1 = f'{n_b_fc} 00:00:00.2'\n",
    "busqueda_fc_n4 = f'{n_b_fc} 00:00:00.2' \n",
    "\n",
    "\n",
    "\n",
    "\n",
    "#COMPROBACION DE FECHAS\n",
    "# df_n1[busqueda_fc_n1].sum()\n",
    "df_n1['fc'] = df_n1[busqueda_fc_n1]\n",
    "df_n4['fc'] = df_n4[busqueda_fc_n4]\n",
    "df_n1['fc'].sum()\n",
    "\n"
   ]
  },
  {
   "cell_type": "code",
   "execution_count": 23,
   "metadata": {},
   "outputs": [],
   "source": [
    "df_n1['ID2'] = df_n1['UE_2'] + df_n1['Canal']\n",
    "df_n4['ID2'] = df_n4['UE_2'] + df_n4['Canal']"
   ]
  },
  {
   "cell_type": "code",
   "execution_count": 24,
   "metadata": {},
   "outputs": [],
   "source": [
    "df_n1['Periodo'] = 'N-1'\n",
    "df_n4['Periodo'] = 'N-4'"
   ]
  },
  {
   "cell_type": "code",
   "execution_count": 25,
   "metadata": {},
   "outputs": [],
   "source": [
    "df_consolidado = pd.concat([df_n1,df_n4], ignore_index=True)"
   ]
  },
  {
   "cell_type": "code",
   "execution_count": 26,
   "metadata": {},
   "outputs": [],
   "source": [
    "cols = ['ID2', 'UE_2', 'fc_anas','fc', 'Periodo', 'Input']\n"
   ]
  },
  {
   "cell_type": "code",
   "execution_count": 27,
   "metadata": {},
   "outputs": [],
   "source": [
    "df_consolidado_red = df_consolidado[cols]"
   ]
  },
  {
   "cell_type": "code",
   "execution_count": 28,
   "metadata": {},
   "outputs": [],
   "source": [
    "df_consolidado_red = df_consolidado_red.sort_values(by='Input', ascending=True)"
   ]
  },
  {
   "cell_type": "code",
   "execution_count": 29,
   "metadata": {},
   "outputs": [],
   "source": [
    "df_consolidado_red = df_consolidado_red.groupby(['ID2', 'Periodo']).agg({'UE_2':'first', 'fc': 'sum', 'fc_anas':'sum', 'Input':'first'}).reset_index()"
   ]
  },
  {
   "cell_type": "code",
   "execution_count": 30,
   "metadata": {},
   "outputs": [],
   "source": [
    "indice_deseado = 25 # El índice 57 corresponde a la columna número 58\n",
    "\n",
    "\n",
    "# Accede a la columna por su índice\n",
    "col_deseada = df_ventas.iloc[:, indice_deseado]"
   ]
  },
  {
   "cell_type": "code",
   "execution_count": 31,
   "metadata": {},
   "outputs": [],
   "source": [
    "df_ventas['Venta'] = col_deseada\n",
    "df_ventas['Ventas UMB'] = df_ventas['Prom. VtaR']\n",
    "red_columnas = ['ID V2','Último Eslabón', 'Venta', 'Ventas UMB','Costo']\n",
    "df_ventas = df_ventas[red_columnas]"
   ]
  },
  {
   "cell_type": "code",
   "execution_count": 32,
   "metadata": {},
   "outputs": [
    {
     "data": {
      "text/plain": [
       "105127"
      ]
     },
     "execution_count": 32,
     "metadata": {},
     "output_type": "execute_result"
    }
   ],
   "source": [
    "df_ventas['Venta'].sum()"
   ]
  },
  {
   "cell_type": "code",
   "execution_count": 33,
   "metadata": {},
   "outputs": [
    {
     "name": "stderr",
     "output_type": "stream",
     "text": [
      "C:\\Users\\lravlic\\AppData\\Local\\Temp\\ipykernel_15440\\2736247889.py:1: FutureWarning: The provided callable <built-in function sum> is currently using SeriesGroupBy.sum. In a future version of pandas, the provided callable will be used directly. To keep current behavior pass the string \"sum\" instead.\n",
      "  df_ventas = df_ventas.groupby(['ID V2']).agg({'Venta': sum, 'Costo': sum}).reset_index()\n",
      "C:\\Users\\lravlic\\AppData\\Local\\Temp\\ipykernel_15440\\2736247889.py:1: FutureWarning: The provided callable <built-in function sum> is currently using SeriesGroupBy.sum. In a future version of pandas, the provided callable will be used directly. To keep current behavior pass the string \"sum\" instead.\n",
      "  df_ventas = df_ventas.groupby(['ID V2']).agg({'Venta': sum, 'Costo': sum}).reset_index()\n"
     ]
    }
   ],
   "source": [
    "df_ventas = df_ventas.groupby(['ID V2']).agg({'Venta': sum, 'Costo': sum}).reset_index()"
   ]
  },
  {
   "cell_type": "code",
   "execution_count": 34,
   "metadata": {},
   "outputs": [],
   "source": [
    "consolidado_cruce_ventas = pd.merge(df_consolidado_red, df_ventas, left_on='ID2', right_on='ID V2', how='left')\n",
    "consolidado_cruce_ventas = consolidado_cruce_ventas.merge(df_ventas_p, left_on='UE_2', right_on='Último Eslabón', how='left')\n"
   ]
  },
  {
   "cell_type": "code",
   "execution_count": 35,
   "metadata": {},
   "outputs": [
    {
     "data": {
      "application/vnd.microsoft.datawrangler.viewer.v0+json": {
       "columns": [
        {
         "name": "index",
         "rawType": "int64",
         "type": "integer"
        },
        {
         "name": "ID2",
         "rawType": "object",
         "type": "string"
        },
        {
         "name": "Periodo",
         "rawType": "object",
         "type": "string"
        },
        {
         "name": "UE_2",
         "rawType": "object",
         "type": "string"
        },
        {
         "name": "fc",
         "rawType": "float64",
         "type": "float"
        },
        {
         "name": "fc_anas",
         "rawType": "float64",
         "type": "float"
        },
        {
         "name": "Input",
         "rawType": "object",
         "type": "unknown"
        },
        {
         "name": "ID V2",
         "rawType": "object",
         "type": "unknown"
        },
        {
         "name": "Venta",
         "rawType": "float64",
         "type": "float"
        },
        {
         "name": "Costo",
         "rawType": "float64",
         "type": "float"
        },
        {
         "name": "Unnamed: 0",
         "rawType": "float64",
         "type": "float"
        },
        {
         "name": "Último Eslabón",
         "rawType": "object",
         "type": "unknown"
        },
        {
         "name": "Prom.",
         "rawType": "float64",
         "type": "float"
        }
       ],
       "conversionMethod": "pd.DataFrame",
       "ref": "34239114-62f0-4999-8efa-d98fa66ec59b",
       "rows": [
        [
         "0",
         "000/74CL CES 01",
         "N-1",
         "000/74",
         "0.0",
         "0.0",
         null,
         null,
         null,
         null,
         null,
         null,
         null
        ],
        [
         "1",
         "000/74CL CES 01",
         "N-4",
         "000/74",
         "0.0",
         "0.0",
         null,
         null,
         null,
         null,
         null,
         null,
         null
        ],
        [
         "2",
         "000000000003004031CL CES 01",
         "N-4",
         "000000000003004031",
         "0.0",
         "0.0",
         null,
         null,
         null,
         null,
         null,
         null,
         null
        ],
        [
         "3",
         "000000000003447595CL CES 01",
         "N-1",
         "000000000003447595",
         "0.0",
         "0.0",
         null,
         null,
         null,
         null,
         null,
         null,
         null
        ],
        [
         "4",
         "000000000003447595CL CES 01",
         "N-4",
         "000000000003447595",
         "0.0",
         "0.0",
         null,
         null,
         null,
         null,
         null,
         null,
         null
        ],
        [
         "5",
         "000000000004005005CL CES 01",
         "N-4",
         "000000000004005005",
         "0.0",
         "0.0",
         null,
         null,
         null,
         null,
         null,
         null,
         null
        ],
        [
         "6",
         "000000000004019070CL CES 01",
         "N-4",
         "000000000004019070",
         "0.0",
         "0.0",
         null,
         null,
         null,
         null,
         null,
         null,
         null
        ],
        [
         "7",
         "000000000004019072CL CES 01",
         "N-4",
         "000000000004019072",
         "0.0",
         "0.0",
         null,
         null,
         null,
         null,
         null,
         null,
         null
        ],
        [
         "8",
         "000000000004019102CL CES 01",
         "N-4",
         "000000000004019102",
         "0.0",
         "0.0",
         null,
         null,
         null,
         null,
         null,
         null,
         null
        ],
        [
         "9",
         "0000000001CL CES 01",
         "N-1",
         "0000000001",
         "0.0",
         "0.0",
         null,
         null,
         null,
         null,
         null,
         null,
         null
        ],
        [
         "10",
         "0000000001CL CES 01",
         "N-4",
         "0000000001",
         "0.0",
         "0.0",
         null,
         null,
         null,
         null,
         null,
         null,
         null
        ],
        [
         "11",
         "000000000401600123CL CES 01",
         "N-4",
         "000000000401600123",
         "0.0",
         "0.0",
         null,
         null,
         null,
         null,
         null,
         null,
         null
        ],
        [
         "12",
         "000000000401600125CL CES 01",
         "N-4",
         "000000000401600125",
         "0.0",
         "0.0",
         null,
         null,
         null,
         null,
         null,
         null,
         null
        ],
        [
         "13",
         "000000000401600127CL CES 01",
         "N-4",
         "000000000401600127",
         "0.0",
         "0.0",
         null,
         null,
         null,
         null,
         null,
         null,
         null
        ],
        [
         "14",
         "000000000401600129CL CES 01",
         "N-4",
         "000000000401600129",
         "0.0",
         "0.0",
         null,
         null,
         null,
         null,
         null,
         null,
         null
        ],
        [
         "15",
         "000000000401600134CL CES 01",
         "N-4",
         "000000000401600134",
         "0.0",
         "0.0",
         null,
         null,
         null,
         null,
         null,
         null,
         null
        ],
        [
         "16",
         "0000000004CL CES 01",
         "N-1",
         "0000000004",
         "0.0",
         "0.0",
         null,
         null,
         null,
         null,
         null,
         null,
         null
        ],
        [
         "17",
         "0000000004CL CES 01",
         "N-4",
         "0000000004",
         "0.0",
         "0.0",
         null,
         null,
         null,
         null,
         null,
         null,
         null
        ],
        [
         "18",
         "00000001060E0CL CES 01",
         "N-1",
         "00000001060E0",
         "0.0",
         "0.0",
         null,
         null,
         null,
         null,
         null,
         null,
         null
        ],
        [
         "19",
         "00000001060E0CL CES 01",
         "N-4",
         "00000001060E0",
         "0.0",
         "0.0",
         null,
         null,
         null,
         null,
         null,
         null,
         null
        ],
        [
         "20",
         "0000000119CL CES 01",
         "N-1",
         "0000000119",
         "0.0",
         "0.0",
         null,
         null,
         null,
         null,
         null,
         null,
         null
        ],
        [
         "21",
         "0000000119CL CES 01",
         "N-4",
         "0000000119",
         "0.0",
         "0.0",
         null,
         null,
         null,
         null,
         null,
         null,
         null
        ],
        [
         "22",
         "0000000186CL CES 01",
         "N-1",
         "0000000186",
         "0.0",
         "0.0",
         null,
         null,
         null,
         null,
         null,
         null,
         null
        ],
        [
         "23",
         "0000000186CL CES 01",
         "N-4",
         "0000000186",
         "0.0",
         "0.0",
         null,
         null,
         null,
         null,
         null,
         null,
         null
        ],
        [
         "24",
         "0000000187CL CES 01",
         "N-1",
         "0000000187",
         "0.0",
         "0.0",
         null,
         null,
         null,
         null,
         null,
         null,
         null
        ],
        [
         "25",
         "0000000187CL CES 01",
         "N-4",
         "0000000187",
         "0.0",
         "0.0",
         null,
         null,
         null,
         null,
         null,
         null,
         null
        ],
        [
         "26",
         "0000000189CL CES 01",
         "N-1",
         "0000000189",
         "0.0",
         "0.0",
         null,
         null,
         null,
         null,
         null,
         null,
         null
        ],
        [
         "27",
         "0000000189CL CES 01",
         "N-4",
         "0000000189",
         "0.0",
         "0.0",
         null,
         null,
         null,
         null,
         null,
         null,
         null
        ],
        [
         "28",
         "0000000190-OP1CL CES 01",
         "N-1",
         "0000000190-OP1",
         "0.0",
         "0.0",
         null,
         "0000000190-OP1CL CES 01",
         "0.0",
         "0.0",
         "0.0",
         "0000000190-OP1",
         "0.0"
        ],
        [
         "29",
         "0000000190-OP1CL CES 01",
         "N-4",
         "0000000190-OP1",
         "0.0",
         "0.0",
         null,
         "0000000190-OP1CL CES 01",
         "0.0",
         "0.0",
         "0.0",
         "0000000190-OP1",
         "0.0"
        ],
        [
         "30",
         "0000000191CL CES 01",
         "N-1",
         "0000000191",
         "0.0",
         "0.0",
         null,
         null,
         null,
         null,
         null,
         null,
         null
        ],
        [
         "31",
         "0000000191CL CES 01",
         "N-4",
         "0000000191",
         "0.0",
         "0.0",
         null,
         null,
         null,
         null,
         null,
         null,
         null
        ],
        [
         "32",
         "0000000193CL CES 01",
         "N-1",
         "0000000193",
         "0.0",
         "0.0",
         null,
         null,
         null,
         null,
         null,
         null,
         null
        ],
        [
         "33",
         "0000000193CL CES 01",
         "N-4",
         "0000000193",
         "0.0",
         "0.0",
         null,
         null,
         null,
         null,
         null,
         null,
         null
        ],
        [
         "34",
         "0000000194CL CES 01",
         "N-1",
         "0000000194",
         "0.0",
         "0.0",
         null,
         null,
         null,
         null,
         null,
         null,
         null
        ],
        [
         "35",
         "0000000194CL CES 01",
         "N-4",
         "0000000194",
         "0.0",
         "0.0",
         null,
         null,
         null,
         null,
         null,
         null,
         null
        ],
        [
         "36",
         "0000000195-OPCL CES 01",
         "N-1",
         "0000000195-OP",
         "0.0",
         "0.0",
         null,
         null,
         null,
         null,
         null,
         null,
         null
        ],
        [
         "37",
         "0000000195-OPCL CES 01",
         "N-4",
         "0000000195-OP",
         "0.0",
         "0.0",
         null,
         null,
         null,
         null,
         null,
         null,
         null
        ],
        [
         "38",
         "0000000197CL CES 01",
         "N-1",
         "0000000197",
         "0.0",
         "0.0",
         null,
         null,
         null,
         null,
         null,
         null,
         null
        ],
        [
         "39",
         "0000000197CL CES 01",
         "N-4",
         "0000000197",
         "0.0",
         "0.0",
         null,
         null,
         null,
         null,
         null,
         null,
         null
        ],
        [
         "40",
         "0000000199CL CES 01",
         "N-1",
         "0000000199",
         "0.0",
         "0.0",
         null,
         null,
         null,
         null,
         null,
         null,
         null
        ],
        [
         "41",
         "0000000199CL CES 01",
         "N-4",
         "0000000199",
         "0.0",
         "0.0",
         null,
         null,
         null,
         null,
         null,
         null,
         null
        ],
        [
         "42",
         "0000000200CL CES 01",
         "N-1",
         "0000000200",
         "0.0",
         "0.0",
         null,
         null,
         null,
         null,
         null,
         null,
         null
        ],
        [
         "43",
         "0000000200CL CES 01",
         "N-4",
         "0000000200",
         "0.0",
         "0.0",
         null,
         null,
         null,
         null,
         null,
         null,
         null
        ],
        [
         "44",
         "0000000201CL CES 01",
         "N-1",
         "0000000201",
         "0.0",
         "0.0",
         null,
         null,
         null,
         null,
         null,
         null,
         null
        ],
        [
         "45",
         "0000000201CL CES 01",
         "N-4",
         "0000000201",
         "0.0",
         "0.0",
         null,
         null,
         null,
         null,
         null,
         null,
         null
        ],
        [
         "46",
         "0000000203CL CES 01",
         "N-1",
         "0000000203",
         "0.0",
         "0.0",
         null,
         null,
         null,
         null,
         null,
         null,
         null
        ],
        [
         "47",
         "0000000203CL CES 01",
         "N-4",
         "0000000203",
         "0.0",
         "0.0",
         null,
         null,
         null,
         null,
         null,
         null,
         null
        ],
        [
         "48",
         "0000000204CL CES 01",
         "N-1",
         "0000000204",
         "0.0",
         "0.0",
         null,
         null,
         null,
         null,
         null,
         null,
         null
        ],
        [
         "49",
         "0000000204CL CES 01",
         "N-4",
         "0000000204",
         "0.0",
         "0.0",
         null,
         null,
         null,
         null,
         null,
         null,
         null
        ]
       ],
       "shape": {
        "columns": 12,
        "rows": 482300
       }
      },
      "text/html": [
       "<div>\n",
       "<style scoped>\n",
       "    .dataframe tbody tr th:only-of-type {\n",
       "        vertical-align: middle;\n",
       "    }\n",
       "\n",
       "    .dataframe tbody tr th {\n",
       "        vertical-align: top;\n",
       "    }\n",
       "\n",
       "    .dataframe thead th {\n",
       "        text-align: right;\n",
       "    }\n",
       "</style>\n",
       "<table border=\"1\" class=\"dataframe\">\n",
       "  <thead>\n",
       "    <tr style=\"text-align: right;\">\n",
       "      <th></th>\n",
       "      <th>ID2</th>\n",
       "      <th>Periodo</th>\n",
       "      <th>UE_2</th>\n",
       "      <th>fc</th>\n",
       "      <th>fc_anas</th>\n",
       "      <th>Input</th>\n",
       "      <th>ID V2</th>\n",
       "      <th>Venta</th>\n",
       "      <th>Costo</th>\n",
       "      <th>Unnamed: 0</th>\n",
       "      <th>Último Eslabón</th>\n",
       "      <th>Prom.</th>\n",
       "    </tr>\n",
       "  </thead>\n",
       "  <tbody>\n",
       "    <tr>\n",
       "      <th>0</th>\n",
       "      <td>000/74CL CES 01</td>\n",
       "      <td>N-1</td>\n",
       "      <td>000/74</td>\n",
       "      <td>0.0</td>\n",
       "      <td>0.0</td>\n",
       "      <td>None</td>\n",
       "      <td>None</td>\n",
       "      <td>NaN</td>\n",
       "      <td>NaN</td>\n",
       "      <td>NaN</td>\n",
       "      <td>NaN</td>\n",
       "      <td>NaN</td>\n",
       "    </tr>\n",
       "    <tr>\n",
       "      <th>1</th>\n",
       "      <td>000/74CL CES 01</td>\n",
       "      <td>N-4</td>\n",
       "      <td>000/74</td>\n",
       "      <td>0.0</td>\n",
       "      <td>0.0</td>\n",
       "      <td>None</td>\n",
       "      <td>None</td>\n",
       "      <td>NaN</td>\n",
       "      <td>NaN</td>\n",
       "      <td>NaN</td>\n",
       "      <td>NaN</td>\n",
       "      <td>NaN</td>\n",
       "    </tr>\n",
       "    <tr>\n",
       "      <th>2</th>\n",
       "      <td>000000000003004031CL CES 01</td>\n",
       "      <td>N-4</td>\n",
       "      <td>000000000003004031</td>\n",
       "      <td>0.0</td>\n",
       "      <td>0.0</td>\n",
       "      <td>None</td>\n",
       "      <td>None</td>\n",
       "      <td>NaN</td>\n",
       "      <td>NaN</td>\n",
       "      <td>NaN</td>\n",
       "      <td>NaN</td>\n",
       "      <td>NaN</td>\n",
       "    </tr>\n",
       "    <tr>\n",
       "      <th>3</th>\n",
       "      <td>000000000003447595CL CES 01</td>\n",
       "      <td>N-1</td>\n",
       "      <td>000000000003447595</td>\n",
       "      <td>0.0</td>\n",
       "      <td>0.0</td>\n",
       "      <td>None</td>\n",
       "      <td>None</td>\n",
       "      <td>NaN</td>\n",
       "      <td>NaN</td>\n",
       "      <td>NaN</td>\n",
       "      <td>NaN</td>\n",
       "      <td>NaN</td>\n",
       "    </tr>\n",
       "    <tr>\n",
       "      <th>4</th>\n",
       "      <td>000000000003447595CL CES 01</td>\n",
       "      <td>N-4</td>\n",
       "      <td>000000000003447595</td>\n",
       "      <td>0.0</td>\n",
       "      <td>0.0</td>\n",
       "      <td>None</td>\n",
       "      <td>None</td>\n",
       "      <td>NaN</td>\n",
       "      <td>NaN</td>\n",
       "      <td>NaN</td>\n",
       "      <td>NaN</td>\n",
       "      <td>NaN</td>\n",
       "    </tr>\n",
       "    <tr>\n",
       "      <th>...</th>\n",
       "      <td>...</td>\n",
       "      <td>...</td>\n",
       "      <td>...</td>\n",
       "      <td>...</td>\n",
       "      <td>...</td>\n",
       "      <td>...</td>\n",
       "      <td>...</td>\n",
       "      <td>...</td>\n",
       "      <td>...</td>\n",
       "      <td>...</td>\n",
       "      <td>...</td>\n",
       "      <td>...</td>\n",
       "    </tr>\n",
       "    <tr>\n",
       "      <th>482295</th>\n",
       "      <td>ZZMA18100ACL CES 01</td>\n",
       "      <td>N-1</td>\n",
       "      <td>ZZMA18100A</td>\n",
       "      <td>0.0</td>\n",
       "      <td>0.0</td>\n",
       "      <td>None</td>\n",
       "      <td>None</td>\n",
       "      <td>NaN</td>\n",
       "      <td>NaN</td>\n",
       "      <td>NaN</td>\n",
       "      <td>NaN</td>\n",
       "      <td>NaN</td>\n",
       "    </tr>\n",
       "    <tr>\n",
       "      <th>482296</th>\n",
       "      <td>ZZMA18100ACL CES 01</td>\n",
       "      <td>N-4</td>\n",
       "      <td>ZZMA18100A</td>\n",
       "      <td>0.0</td>\n",
       "      <td>0.0</td>\n",
       "      <td>None</td>\n",
       "      <td>None</td>\n",
       "      <td>NaN</td>\n",
       "      <td>NaN</td>\n",
       "      <td>NaN</td>\n",
       "      <td>NaN</td>\n",
       "      <td>NaN</td>\n",
       "    </tr>\n",
       "    <tr>\n",
       "      <th>482297</th>\n",
       "      <td>ZZY118100CL CES 01</td>\n",
       "      <td>N-1</td>\n",
       "      <td>ZZY118100</td>\n",
       "      <td>0.0</td>\n",
       "      <td>0.0</td>\n",
       "      <td>None</td>\n",
       "      <td>None</td>\n",
       "      <td>NaN</td>\n",
       "      <td>NaN</td>\n",
       "      <td>NaN</td>\n",
       "      <td>NaN</td>\n",
       "      <td>NaN</td>\n",
       "    </tr>\n",
       "    <tr>\n",
       "      <th>482298</th>\n",
       "      <td>ZZY118100CL CES 01</td>\n",
       "      <td>N-4</td>\n",
       "      <td>ZZY118100</td>\n",
       "      <td>0.0</td>\n",
       "      <td>0.0</td>\n",
       "      <td>None</td>\n",
       "      <td>None</td>\n",
       "      <td>NaN</td>\n",
       "      <td>NaN</td>\n",
       "      <td>NaN</td>\n",
       "      <td>NaN</td>\n",
       "      <td>NaN</td>\n",
       "    </tr>\n",
       "    <tr>\n",
       "      <th>482299</th>\n",
       "      <td>nanCL CES 01</td>\n",
       "      <td>N-4</td>\n",
       "      <td>nan</td>\n",
       "      <td>0.0</td>\n",
       "      <td>0.0</td>\n",
       "      <td>None</td>\n",
       "      <td>None</td>\n",
       "      <td>NaN</td>\n",
       "      <td>NaN</td>\n",
       "      <td>NaN</td>\n",
       "      <td>NaN</td>\n",
       "      <td>NaN</td>\n",
       "    </tr>\n",
       "  </tbody>\n",
       "</table>\n",
       "<p>482300 rows × 12 columns</p>\n",
       "</div>"
      ],
      "text/plain": [
       "                                ID2 Periodo                UE_2   fc  fc_anas  \\\n",
       "0                   000/74CL CES 01     N-1              000/74  0.0      0.0   \n",
       "1                   000/74CL CES 01     N-4              000/74  0.0      0.0   \n",
       "2       000000000003004031CL CES 01     N-4  000000000003004031  0.0      0.0   \n",
       "3       000000000003447595CL CES 01     N-1  000000000003447595  0.0      0.0   \n",
       "4       000000000003447595CL CES 01     N-4  000000000003447595  0.0      0.0   \n",
       "...                             ...     ...                 ...  ...      ...   \n",
       "482295          ZZMA18100ACL CES 01     N-1          ZZMA18100A  0.0      0.0   \n",
       "482296          ZZMA18100ACL CES 01     N-4          ZZMA18100A  0.0      0.0   \n",
       "482297           ZZY118100CL CES 01     N-1           ZZY118100  0.0      0.0   \n",
       "482298           ZZY118100CL CES 01     N-4           ZZY118100  0.0      0.0   \n",
       "482299                 nanCL CES 01     N-4                 nan  0.0      0.0   \n",
       "\n",
       "       Input ID V2  Venta  Costo  Unnamed: 0 Último Eslabón  Prom.  \n",
       "0       None  None    NaN    NaN         NaN            NaN    NaN  \n",
       "1       None  None    NaN    NaN         NaN            NaN    NaN  \n",
       "2       None  None    NaN    NaN         NaN            NaN    NaN  \n",
       "3       None  None    NaN    NaN         NaN            NaN    NaN  \n",
       "4       None  None    NaN    NaN         NaN            NaN    NaN  \n",
       "...      ...   ...    ...    ...         ...            ...    ...  \n",
       "482295  None  None    NaN    NaN         NaN            NaN    NaN  \n",
       "482296  None  None    NaN    NaN         NaN            NaN    NaN  \n",
       "482297  None  None    NaN    NaN         NaN            NaN    NaN  \n",
       "482298  None  None    NaN    NaN         NaN            NaN    NaN  \n",
       "482299  None  None    NaN    NaN         NaN            NaN    NaN  \n",
       "\n",
       "[482300 rows x 12 columns]"
      ]
     },
     "execution_count": 35,
     "metadata": {},
     "output_type": "execute_result"
    }
   ],
   "source": [
    "consolidado_cruce_ventas"
   ]
  },
  {
   "cell_type": "code",
   "execution_count": 36,
   "metadata": {},
   "outputs": [],
   "source": [
    "consolidado_cruce_ventas = consolidado_cruce_ventas.drop(['Último Eslabón'], axis=1)\n",
    "consolidado_cruce_ventas = consolidado_cruce_ventas.drop(['ID V2'], axis=1)"
   ]
  },
  {
   "cell_type": "code",
   "execution_count": null,
   "metadata": {},
   "outputs": [],
   "source": []
  },
  {
   "cell_type": "code",
   "execution_count": 37,
   "metadata": {},
   "outputs": [],
   "source": [
    "columnas_eliminar = ['Último Eslabón_x','Ventas UMB_x','Último Eslabón_y']"
   ]
  },
  {
   "cell_type": "code",
   "execution_count": 36,
   "metadata": {},
   "outputs": [],
   "source": [
    "#consolidado_final_prom_ventas = pd.merge(consolidado_cruce_ventas, df_ventas, left_on='UE_2', right_on='Cod_Actual_1', how='left')"
   ]
  },
  {
   "cell_type": "code",
   "execution_count": 37,
   "metadata": {},
   "outputs": [],
   "source": [
    "#consolidado_cruce_ventas = consolidado_cruce_ventas.rename(columns={'Ventas UMB_y': 'Ventas UMB'})\n",
    "#consolidado_cruce_ventas['Ventas UMB'] = consolidado_cruce_ventas['Ventas UMB']/4"
   ]
  },
  {
   "cell_type": "code",
   "execution_count": 38,
   "metadata": {},
   "outputs": [
    {
     "data": {
      "text/plain": [
       "'2025-03'"
      ]
     },
     "execution_count": 38,
     "metadata": {},
     "output_type": "execute_result"
    }
   ],
   "source": [
    "fecha_n"
   ]
  },
  {
   "cell_type": "code",
   "execution_count": 39,
   "metadata": {},
   "outputs": [
    {
     "data": {
      "text/plain": [
       "2"
      ]
     },
     "execution_count": 39,
     "metadata": {},
     "output_type": "execute_result"
    }
   ],
   "source": [
    "ciclo_n1"
   ]
  },
  {
   "cell_type": "code",
   "execution_count": 38,
   "metadata": {},
   "outputs": [
    {
     "name": "stdout",
     "output_type": "stream",
     "text": [
      "c:/Users/lravlic/Inchcape/Planificación y Compras Chile - Documentos/Planificación y Compras KPI-Reportes/Tubo Semanal\\2025-02-03\\2025-02-03 - Stock R3_UE.xlsx\n",
      "c:/Users/lravlic/Inchcape/Planificación y Compras Chile - Documentos/Planificación y Compras KPI-Reportes/Tubo Semanal\\2025-02-10\\2025-02-10 - Stock R3.xlsx\n",
      "c:/Users/lravlic/Inchcape/Planificación y Compras Chile - Documentos/Planificación y Compras KPI-Reportes/Tubo Semanal\\2025-02-17\\2025-02-17 - Stock R3.xlsx\n",
      "c:/Users/lravlic/Inchcape/Planificación y Compras Chile - Documentos/Planificación y Compras KPI-Reportes/Tubo Semanal\\2025-02-24\\2025-02-24 - Stock R3.xlsx\n"
     ]
    }
   ],
   "source": [
    "carpeta_tubo = f\"c:/Users/{nombre_usuario}/Inchcape/Planificación y Compras Chile - Documentos/Planificación y Compras KPI-Reportes/Tubo Semanal\"\n",
    "fecha_actual = datetime.today()\n",
    "\n",
    "# Calcular la fecha del mes anterior\n",
    "fecha_mes_anterior = fecha_actual - timedelta(days=fecha_actual.day)\n",
    "\n",
    "# Formatear la fecha en \"yyyy-mm\"\n",
    "fecha_formateada = fecha_mes_anterior.strftime('%Y-%m')\n",
    "dtype_stock ={\n",
    "    'Material SAP': str,\n",
    "    'UE': str,\n",
    "}\n",
    "\n",
    "\n",
    "# Imprimir la fecha formateada\n",
    "contador = 1  # Inicializa un contador para los nombres de los DataFrames\n",
    "\n",
    "\n",
    "tubo = os.listdir(carpeta_tubo)\n",
    "for i in tubo:\n",
    "\n",
    "    if i[5:7] == fecha_formateada[5:8] and i[0:4] == fecha_formateada[0:4]:\n",
    "        \n",
    "        \n",
    "        carpeta = os.listdir(os.path.join(carpeta_tubo, i))\n",
    "        for a in carpeta:\n",
    "            if 'tock' in a and not 'iendas' in a and not 'añol' in a and not 'entros' in a and 'R3' in a:\n",
    "               \n",
    "                arch = os.path.join(carpeta_tubo, i, a)\n",
    "                print(arch)\n",
    "            \n",
    "\n",
    "                df = pd.read_excel(arch, sheet_name='Sheet1', usecols=['Ult. Eslabon', 'Libre utilización','Centro'], dtype = {'Centro' : 'str','Ult. Eslabon':'str'})\n",
    "                df_suma = df.groupby('Ult. Eslabon', as_index=False).agg({'Libre utilización': 'sum'})\n",
    "\n",
    "                df_ue = pd.merge(df_suma, cadena_de_remplazo, left_on='Ult. Eslabon', right_on='Nro_pieza_fabricante_1', how='left', suffixes=('Cod_Actual_1', '_Cad_reemplazo'))\n",
    "                df_ue.drop('Nro_pieza_fabricante_1', axis=1, inplace=True)\n",
    "                df_ue['Cod_Actual_1'].fillna(df_ue['Ult. Eslabon'], inplace=True)\n",
    "                df_ue.drop('Ult. Eslabon', axis=1, inplace=True)\n",
    "                df_suma = df_ue.groupby(['Cod_Actual_1']).agg({'Libre utilización': 'sum'}).reset_index()\n",
    "                df_suma = df_suma.rename(columns = {'Libre utilización': f'Stock SEM {datetime.strptime(a[:10], '%Y-%m-%d').isocalendar()[1]}', 'Cod_Actual_1':f'Cod_Actual{a[:10]}'})\n",
    "\n",
    "                suffix = f'_{i}' if i == (len(tubo) - 2) else f'_{i}a'  # Añadir sufijo para la primera fusión\n",
    "                consolidado_cruce_ventas = consolidado_cruce_ventas.merge(df_suma, left_on='UE_2', right_on=f'Cod_Actual{a[:10]}', how='left')\n",
    "               \n",
    "#         \n",
    "\n"
   ]
  },
  {
   "cell_type": "code",
   "execution_count": 39,
   "metadata": {},
   "outputs": [],
   "source": [
    "consolidado_cruce_ventas = consolidado_cruce_ventas.fillna(0)\n",
    "columns_to_drop = consolidado_cruce_ventas.filter(like='Cod_Actual').columns\n",
    "consolidado_cruce_ventas = consolidado_cruce_ventas.drop(columns=columns_to_drop)"
   ]
  },
  {
   "cell_type": "code",
   "execution_count": 40,
   "metadata": {},
   "outputs": [],
   "source": [
    "semanas_habiles_por_mes = {\n",
    "    '2023-10': 5,\n",
    "    '2023-11': 4,\n",
    "    '2023-12': 4,\n",
    "    '2024-01': 5,\n",
    "    '2024-02': 4,\n",
    "    '2024-03': 4,\n",
    "    '2024-04': 4,\n",
    "    '2024-05': 5,\n",
    "    '2024-06': 5,\n",
    "    '2024-07': 4,\n",
    "    '2024-08': 4,\n",
    "    '2024-09': 4,\n",
    "    '2024-10': 5,\n",
    "    '2024-11': 4,\n",
    "    '2024-12': 4,\n",
    "    '2025-01': 5,\n",
    "    '2025-02': 4,\n",
    "    '2025-03': 4,\n",
    "    '2025-04': 4,\n",
    "    '2025-05': 4,\n",
    "    '2025-06': 4,\n",
    "    '2025-07': 5,\n",
    "    '2025-08': 4,\n",
    "    '2025-09': 4,\n",
    "    '2025-10': 4,\n",
    "    '2025-11': 4,\n",
    "    '2025-12': 4\n",
    "}"
   ]
  },
  {
   "cell_type": "code",
   "execution_count": 41,
   "metadata": {},
   "outputs": [],
   "source": [
    "consolidado_cruce_ventas['Venta'] = consolidado_cruce_ventas['Venta'].apply(lambda x: x if x >= 0 else 0)\n",
    "\n",
    "\n",
    "consolidado_cruce_ventas['Prom.'] = consolidado_cruce_ventas['Prom.'].apply(lambda x: x if x >= 0 else 0)\n",
    "#consolidado_cruce_ventas['Prom.'] = consolidado_cruce_ventas['Prom.']/4\n",
    "consolidado_cruce_ventas['Prom.'] = consolidado_cruce_ventas.apply(\n",
    "    lambda row: row['Prom.'] / semanas_habiles_por_mes.get(fecha_formateada, 1),\n",
    "    axis=1\n",
    ")"
   ]
  },
  {
   "cell_type": "code",
   "execution_count": 42,
   "metadata": {},
   "outputs": [],
   "source": [
    "for column in consolidado_cruce_ventas.columns:\n",
    "    if 'Stock' in column:\n",
    "        new_column_name = f'INSTOCK_{column[-2:]}'\n",
    "        consolidado_cruce_ventas[new_column_name] = consolidado_cruce_ventas.apply(lambda row: 1 if row['Prom.'] < row[column] else 0, axis=1)\n"
   ]
  },
  {
   "cell_type": "code",
   "execution_count": 43,
   "metadata": {},
   "outputs": [],
   "source": [
    "consolidado_cruce_ventas['Total instock'] = consolidado_cruce_ventas.filter(like='INSTOCK').sum(axis=1)\n"
   ]
  },
  {
   "cell_type": "code",
   "execution_count": null,
   "metadata": {},
   "outputs": [],
   "source": []
  },
  {
   "cell_type": "code",
   "execution_count": 44,
   "metadata": {},
   "outputs": [
    {
     "data": {
      "text/plain": [
       "Total instock\n",
       "0    396673\n",
       "4     80094\n",
       "3      2166\n",
       "1      1980\n",
       "2      1387\n",
       "Name: count, dtype: int64"
      ]
     },
     "execution_count": 44,
     "metadata": {},
     "output_type": "execute_result"
    }
   ],
   "source": [
    "consolidado_cruce_ventas['Total instock'].value_counts()"
   ]
  },
  {
   "cell_type": "code",
   "execution_count": 47,
   "metadata": {},
   "outputs": [
    {
     "data": {
      "text/plain": [
       "ID2               object\n",
       "Periodo           object\n",
       "UE_2              object\n",
       "fc               float64\n",
       "fc_anas          float64\n",
       "Input             object\n",
       "Venta            float64\n",
       "Costo            float64\n",
       "Unnamed: 0       float64\n",
       "Prom.            float64\n",
       "Stock SEM 6      float64\n",
       "Stock SEM 7      float64\n",
       "Stock SEM 8      float64\n",
       "Stock SEM 9      float64\n",
       "INSTOCK_ 6         int64\n",
       "INSTOCK_ 7         int64\n",
       "INSTOCK_ 8         int64\n",
       "INSTOCK_ 9         int64\n",
       "Total instock      int64\n",
       "dtype: object"
      ]
     },
     "execution_count": 47,
     "metadata": {},
     "output_type": "execute_result"
    }
   ],
   "source": [
    "consolidado_cruce_ventas.dtypes"
   ]
  },
  {
   "cell_type": "code",
   "execution_count": 45,
   "metadata": {},
   "outputs": [],
   "source": [
    "consolidado_cruce_ventas['MAPE_AJUSTADO'] = abs(consolidado_cruce_ventas['Venta'] - consolidado_cruce_ventas['fc'])\n",
    "consolidado_cruce_ventas['ERP'] = consolidado_cruce_ventas.apply(lambda row: row['fc'] - row['Venta'] if row['fc'] > row['Venta'] else 0, axis=1)\n",
    "consolidado_cruce_ventas['ERN'] = consolidado_cruce_ventas.apply(lambda row: row['Venta'] - row['fc'] if row['Venta'] > row['fc'] else 0, axis=1)\n",
    "consolidado_cruce_ventas['MAPE_ANASTASIA'] = abs(consolidado_cruce_ventas['Venta'] - consolidado_cruce_ventas['fc_anas'])\n",
    "consolidado_cruce_ventas['ERP_ANASTASIA'] = consolidado_cruce_ventas.apply(lambda row: row['fc_anas'] - row['Venta'] if row['fc_anas'] > row['Venta'] else 0, axis=1)\n",
    "consolidado_cruce_ventas['ERN_ANASTASIA'] = consolidado_cruce_ventas.apply(lambda row: row['Venta'] - row['fc_anas'] if row['Venta'] > row['fc_anas'] else 0, axis=1)\n"
   ]
  },
  {
   "cell_type": "code",
   "execution_count": null,
   "metadata": {},
   "outputs": [],
   "source": []
  },
  {
   "cell_type": "code",
   "execution_count": null,
   "metadata": {},
   "outputs": [],
   "source": []
  },
  {
   "cell_type": "code",
   "execution_count": 46,
   "metadata": {},
   "outputs": [],
   "source": [
    "consolidado_cruce_ventas['WMAPE'] = consolidado_cruce_ventas['MAPE_AJUSTADO'] / consolidado_cruce_ventas['Venta']\n",
    "consolidado_cruce_ventas['WMAPE.1'] = consolidado_cruce_ventas['MAPE_ANASTASIA'] / consolidado_cruce_ventas['Venta']\n",
    "consolidado_cruce_ventas['Mes'] = hoy.strftime('%Y-%m-%d')\n",
    "consolidado_cruce_ventas['Costo de Venta'] = consolidado_cruce_ventas['Costo'] * consolidado_cruce_ventas['Venta']\n",
    "consolidado_cruce_ventas['Forecast en Costo'] = consolidado_cruce_ventas['Costo'] * consolidado_cruce_ventas['fc']\n",
    "consolidado_cruce_ventas['MAPE Costo']  = abs(consolidado_cruce_ventas['Costo de Venta'] - consolidado_cruce_ventas['Forecast en Costo'])\n",
    "consolidado_cruce_ventas['ERP Costo'] = consolidado_cruce_ventas.apply(lambda row: row['Forecast en Costo'] - row['Costo de Venta'] if row['Forecast en Costo'] > row['Costo de Venta'] else 0, axis=1)\n",
    "consolidado_cruce_ventas['ERN Costo'] = consolidado_cruce_ventas.apply(lambda row: row['Costo de Venta'] - row['Forecast en Costo'] if row['Costo de Venta'] > row['Forecast en Costo'] else 0, axis=1)\n",
    "consolidado_cruce_ventas['WMAPE Costo'] = consolidado_cruce_ventas['MAPE Costo'] / consolidado_cruce_ventas['Costo de Venta']"
   ]
  },
  {
   "cell_type": "code",
   "execution_count": 47,
   "metadata": {},
   "outputs": [],
   "source": [
    "consolidado_cruce_ventas = consolidado_cruce_ventas[['ID2', 'Periodo', 'UE_2', 'fc', 'fc_anas',\n",
    "       'Venta', 'Prom.', 'Total instock', 'MAPE_AJUSTADO', 'ERP',\n",
    "       'ERN', 'MAPE_ANASTASIA', 'ERP_ANASTASIA', 'ERN_ANASTASIA', 'WMAPE',\n",
    "       'WMAPE.1', 'Mes', 'Costo', 'Costo de Venta', 'Forecast en Costo', 'MAPE Costo',\n",
    "       'ERP Costo', 'ERN Costo', 'WMAPE Costo', 'Input']]"
   ]
  },
  {
   "cell_type": "code",
   "execution_count": 48,
   "metadata": {},
   "outputs": [],
   "source": [
    "consolidado_cruce_ventas.to_excel(f'C:/Users/{nombre_usuario}/Inchcape/Planificación y Compras Chile - Documentos/Planificación y Compras KPI-Reportes/Forecast Error (Python)/OEM/Base Forecast Error/Forecast Error OEM {nombre_numero_mes} {año}.xlsx', index=False)\n"
   ]
  },
  {
   "cell_type": "code",
   "execution_count": 210,
   "metadata": {},
   "outputs": [
    {
     "ename": "KeyError",
     "evalue": "\"['Último Eslabón y Material SAP'] not in index\"",
     "output_type": "error",
     "traceback": [
      "\u001b[1;31m---------------------------------------------------------------------------\u001b[0m",
      "\u001b[1;31mKeyError\u001b[0m                                  Traceback (most recent call last)",
      "Cell \u001b[1;32mIn[210], line 1\u001b[0m\n\u001b[1;32m----> 1\u001b[0m \u001b[43mdf_n1\u001b[49m\u001b[43m[\u001b[49m\u001b[43mdf_n1\u001b[49m\u001b[43m[\u001b[49m\u001b[38;5;124;43m'\u001b[39;49m\u001b[38;5;124;43mCanal\u001b[39;49m\u001b[38;5;124;43m'\u001b[39;49m\u001b[43m]\u001b[49m\u001b[38;5;241;43m.\u001b[39;49m\u001b[43misin\u001b[49m\u001b[43m(\u001b[49m\u001b[43m[\u001b[49m\u001b[38;5;124;43m'\u001b[39;49m\u001b[38;5;124;43mCL FLOTAS\u001b[39;49m\u001b[38;5;124;43m'\u001b[39;49m\u001b[43m,\u001b[49m\u001b[38;5;124;43m'\u001b[39;49m\u001b[38;5;124;43mCL MAYORISTA\u001b[39;49m\u001b[38;5;124;43m'\u001b[39;49m\u001b[43m]\u001b[49m\u001b[43m)\u001b[49m\u001b[43m]\u001b[49m\u001b[43m[\u001b[49m\u001b[43m[\u001b[49m\u001b[38;5;124;43m'\u001b[39;49m\u001b[38;5;124;43mÚltimo Eslabón y Material SAP\u001b[39;49m\u001b[38;5;124;43m'\u001b[39;49m\u001b[43m,\u001b[49m\u001b[38;5;124;43m'\u001b[39;49m\u001b[38;5;124;43mCanal\u001b[39;49m\u001b[38;5;124;43m'\u001b[39;49m\u001b[43m]\u001b[49m\u001b[43m]\u001b[49m\u001b[38;5;241m.\u001b[39mto_excel(\u001b[38;5;124m'\u001b[39m\u001b[38;5;124mexport_canales.xlsx\u001b[39m\u001b[38;5;124m'\u001b[39m)\n",
      "File \u001b[1;32mc:\\Users\\lravlic\\AppData\\Local\\Programs\\Python\\Python312\\Lib\\site-packages\\pandas\\core\\frame.py:3902\u001b[0m, in \u001b[0;36mDataFrame.__getitem__\u001b[1;34m(self, key)\u001b[0m\n\u001b[0;32m   3900\u001b[0m     \u001b[38;5;28;01mif\u001b[39;00m is_iterator(key):\n\u001b[0;32m   3901\u001b[0m         key \u001b[38;5;241m=\u001b[39m \u001b[38;5;28mlist\u001b[39m(key)\n\u001b[1;32m-> 3902\u001b[0m     indexer \u001b[38;5;241m=\u001b[39m \u001b[38;5;28;43mself\u001b[39;49m\u001b[38;5;241;43m.\u001b[39;49m\u001b[43mcolumns\u001b[49m\u001b[38;5;241;43m.\u001b[39;49m\u001b[43m_get_indexer_strict\u001b[49m\u001b[43m(\u001b[49m\u001b[43mkey\u001b[49m\u001b[43m,\u001b[49m\u001b[43m \u001b[49m\u001b[38;5;124;43m\"\u001b[39;49m\u001b[38;5;124;43mcolumns\u001b[39;49m\u001b[38;5;124;43m\"\u001b[39;49m\u001b[43m)\u001b[49m[\u001b[38;5;241m1\u001b[39m]\n\u001b[0;32m   3904\u001b[0m \u001b[38;5;66;03m# take() does not accept boolean indexers\u001b[39;00m\n\u001b[0;32m   3905\u001b[0m \u001b[38;5;28;01mif\u001b[39;00m \u001b[38;5;28mgetattr\u001b[39m(indexer, \u001b[38;5;124m\"\u001b[39m\u001b[38;5;124mdtype\u001b[39m\u001b[38;5;124m\"\u001b[39m, \u001b[38;5;28;01mNone\u001b[39;00m) \u001b[38;5;241m==\u001b[39m \u001b[38;5;28mbool\u001b[39m:\n",
      "File \u001b[1;32mc:\\Users\\lravlic\\AppData\\Local\\Programs\\Python\\Python312\\Lib\\site-packages\\pandas\\core\\indexes\\base.py:6114\u001b[0m, in \u001b[0;36mIndex._get_indexer_strict\u001b[1;34m(self, key, axis_name)\u001b[0m\n\u001b[0;32m   6111\u001b[0m \u001b[38;5;28;01melse\u001b[39;00m:\n\u001b[0;32m   6112\u001b[0m     keyarr, indexer, new_indexer \u001b[38;5;241m=\u001b[39m \u001b[38;5;28mself\u001b[39m\u001b[38;5;241m.\u001b[39m_reindex_non_unique(keyarr)\n\u001b[1;32m-> 6114\u001b[0m \u001b[38;5;28;43mself\u001b[39;49m\u001b[38;5;241;43m.\u001b[39;49m\u001b[43m_raise_if_missing\u001b[49m\u001b[43m(\u001b[49m\u001b[43mkeyarr\u001b[49m\u001b[43m,\u001b[49m\u001b[43m \u001b[49m\u001b[43mindexer\u001b[49m\u001b[43m,\u001b[49m\u001b[43m \u001b[49m\u001b[43maxis_name\u001b[49m\u001b[43m)\u001b[49m\n\u001b[0;32m   6116\u001b[0m keyarr \u001b[38;5;241m=\u001b[39m \u001b[38;5;28mself\u001b[39m\u001b[38;5;241m.\u001b[39mtake(indexer)\n\u001b[0;32m   6117\u001b[0m \u001b[38;5;28;01mif\u001b[39;00m \u001b[38;5;28misinstance\u001b[39m(key, Index):\n\u001b[0;32m   6118\u001b[0m     \u001b[38;5;66;03m# GH 42790 - Preserve name from an Index\u001b[39;00m\n",
      "File \u001b[1;32mc:\\Users\\lravlic\\AppData\\Local\\Programs\\Python\\Python312\\Lib\\site-packages\\pandas\\core\\indexes\\base.py:6178\u001b[0m, in \u001b[0;36mIndex._raise_if_missing\u001b[1;34m(self, key, indexer, axis_name)\u001b[0m\n\u001b[0;32m   6175\u001b[0m     \u001b[38;5;28;01mraise\u001b[39;00m \u001b[38;5;167;01mKeyError\u001b[39;00m(\u001b[38;5;124mf\u001b[39m\u001b[38;5;124m\"\u001b[39m\u001b[38;5;124mNone of [\u001b[39m\u001b[38;5;132;01m{\u001b[39;00mkey\u001b[38;5;132;01m}\u001b[39;00m\u001b[38;5;124m] are in the [\u001b[39m\u001b[38;5;132;01m{\u001b[39;00maxis_name\u001b[38;5;132;01m}\u001b[39;00m\u001b[38;5;124m]\u001b[39m\u001b[38;5;124m\"\u001b[39m)\n\u001b[0;32m   6177\u001b[0m not_found \u001b[38;5;241m=\u001b[39m \u001b[38;5;28mlist\u001b[39m(ensure_index(key)[missing_mask\u001b[38;5;241m.\u001b[39mnonzero()[\u001b[38;5;241m0\u001b[39m]]\u001b[38;5;241m.\u001b[39munique())\n\u001b[1;32m-> 6178\u001b[0m \u001b[38;5;28;01mraise\u001b[39;00m \u001b[38;5;167;01mKeyError\u001b[39;00m(\u001b[38;5;124mf\u001b[39m\u001b[38;5;124m\"\u001b[39m\u001b[38;5;132;01m{\u001b[39;00mnot_found\u001b[38;5;132;01m}\u001b[39;00m\u001b[38;5;124m not in index\u001b[39m\u001b[38;5;124m\"\u001b[39m)\n",
      "\u001b[1;31mKeyError\u001b[0m: \"['Último Eslabón y Material SAP'] not in index\""
     ]
    }
   ],
   "source": [
    "df_n1[df_n1['Canal'].isin(['CL FLOTAS','CL MAYORISTA'])][['Último Eslabón y Material SAP','Canal']].to_excel('export_canales.xlsx')"
   ]
  },
  {
   "cell_type": "code",
   "execution_count": null,
   "metadata": {},
   "outputs": [],
   "source": [
    "print(f'Total fc n_1: {df_n1['fc'].sum()}' + '\\n' + \n",
    "f'Total fc IA n_1: {df_n1['fc_anas'].sum()}' + '\\n' + \n",
    "f'Total fc n_4: {df_n4['fc'].sum()}' + '\\n' + \n",
    "f'Total fc IA n_4: {df_n4['fc_anas'].sum()}' + '\\n' + \n",
    "f'Total Venta: {df_ventas['Venta'].sum()}')\n"
   ]
  },
  {
   "cell_type": "code",
   "execution_count": null,
   "metadata": {},
   "outputs": [],
   "source": [
    "# consolidado = pd.read_parquet(f\"C:/Users/{nombre_usuario}/Inchcape/Planificación y Compras Chile - Documentos/Planificación y Compras KPI-Reportes/Forecast Error (Python)/OEM/Base Forecast Error/consolidado_fc_error.parquet\")\n",
    "# mara = pd.read_csv(f\"C:/Users/{nombre_usuario}/Inchcape/Planificación y Compras Chile - Documentos/Bases Indicadores en CSV {fecha_n}/MARA_R3.csv\")\n",
    "# mara.drop_duplicates(subset='Material_R3', inplace=True)\n",
    "# df_cruce = consolidado_cruce_ventas.merge(mara[['Material_R3','Sector_dsc']], left_on='UE_2', right_on='Material_R3', how='left')\n",
    "# df_cruce.drop('Material_R3', axis=1, inplace=True)\n",
    "# condicion = df_cruce['Sector_dsc'].isin(['Subaru', 'DFSK', 'GEELY', 'Geely'])\n",
    "\n",
    "# df_cruce.loc[condicion, 'Total instock'] = 4\n",
    "# df_final = pd.concat([consolidado, df_cruce])"
   ]
  },
  {
   "cell_type": "code",
   "execution_count": null,
   "metadata": {},
   "outputs": [],
   "source": [
    "consolidado_cruce_ventas.to_excel(f'C:/Users/{nombre_usuario}/Inchcape/Planificación y Compras Chile - Documentos/Planificación y Compras KPI-Reportes/Forecast Error (Python)/OEM/Base Forecast Error/Forecast Error OEM {nombre_numero_mes} {año}.xlsx')"
   ]
  },
  {
   "cell_type": "code",
   "execution_count": null,
   "metadata": {},
   "outputs": [],
   "source": [
    "import easygui as eg\n"
   ]
  },
  {
   "cell_type": "code",
   "execution_count": null,
   "metadata": {},
   "outputs": [],
   "source": []
  },
  {
   "cell_type": "markdown",
   "metadata": {},
   "source": []
  },
  {
   "cell_type": "code",
   "execution_count": null,
   "metadata": {},
   "outputs": [],
   "source": [
    "eg.msgbox('Base de Forecast Error OEM Construida', 'TAREA FINALIZADA!', 'OK')"
   ]
  },
  {
   "cell_type": "code",
   "execution_count": null,
   "metadata": {},
   "outputs": [],
   "source": [
    "df_n4['fc_anas'].sum()"
   ]
  },
  {
   "cell_type": "code",
   "execution_count": null,
   "metadata": {},
   "outputs": [],
   "source": [
    "df_n4['fc'].sum()"
   ]
  },
  {
   "cell_type": "code",
   "execution_count": null,
   "metadata": {},
   "outputs": [],
   "source": []
  },
  {
   "cell_type": "code",
   "execution_count": null,
   "metadata": {},
   "outputs": [],
   "source": []
  }
 ],
 "metadata": {
  "kernelspec": {
   "display_name": "Python 3",
   "language": "python",
   "name": "python3"
  },
  "language_info": {
   "codemirror_mode": {
    "name": "ipython",
    "version": 3
   },
   "file_extension": ".py",
   "mimetype": "text/x-python",
   "name": "python",
   "nbconvert_exporter": "python",
   "pygments_lexer": "ipython3",
   "version": "3.12.0"
  },
  "orig_nbformat": 4
 },
 "nbformat": 4,
 "nbformat_minor": 2
}
