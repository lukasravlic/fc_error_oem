{
 "cells": [
  {
   "cell_type": "code",
   "execution_count": 2,
   "metadata": {},
   "outputs": [],
   "source": [
    "import pandas as pd"
   ]
  },
  {
   "cell_type": "code",
   "execution_count": 6,
   "metadata": {},
   "outputs": [],
   "source": [
    "import tkinter as tk\n",
    "\n",
    "def action_one():\n",
    "    dtype_mapping = {\n",
    "        'Último Eslabón': 'str',  # If it's a categorical variable\n",
    "        'Canal': 'str',\n",
    "        \"Forecast Base'\": 'float32',\n",
    "        'Input': 'str',\n",
    "        'Forecast Colaborado': 'float32'\n",
    "    }\n",
    "\n",
    "    file_path = \"C:/Users/lravlic/Inchcape/Planificación y Compras Chile - Documentos/Bases Indicadores en CSV 2025-03/Copy of FORECAST N-1.xlsx\"\n",
    "    df = pd.read_excel(file_path, sheet_name='Base Forecast', header=1, usecols=['Último Eslabón', 'Canal', \"Forecast Base'\", 'Input', 'Forecast Colaborado'], engine='openpyxl')\n",
    "    df.to_csv('fc_n1.csv') \n",
    "    label.config(text=\"Button 1 Pressed\")\n",
    "\n",
    "def action_two():\n",
    "    label.config(text=\"Button 2 Pressed\")\n",
    "\n",
    "# Create main window\n",
    "root = tk.Tk()\n",
    "root.title(\"Two Button App\")\n",
    "root.geometry(\"300x200\")\n",
    "\n",
    "# Create label\n",
    "label = tk.Label(root, text=\"Press a button\", font=(\"Arial\", 12))\n",
    "label.pack(pady=20)\n",
    "\n",
    "# Create buttons\n",
    "button1 = tk.Button(root, text=\"Button 1\", command=action_one)\n",
    "button1.pack(pady=5)\n",
    "\n",
    "button2 = tk.Button(root, text=\"Button 2\", command=action_two)\n",
    "button2.pack(pady=5)\n",
    "\n",
    "# Run the app\n",
    "root.mainloop()"
   ]
  },
  {
   "cell_type": "code",
   "execution_count": null,
   "metadata": {},
   "outputs": [],
   "source": [
    "df = df[['Último Eslabón','Canal','Input','Forecast Colaborado',\"Forecast Base'\"]]"
   ]
  },
  {
   "cell_type": "code",
   "execution_count": null,
   "metadata": {},
   "outputs": [],
   "source": [
    "cols =df.columns.to_list()"
   ]
  },
  {
   "cell_type": "code",
   "execution_count": null,
   "metadata": {},
   "outputs": [],
   "source": [
    "cols"
   ]
  },
  {
   "cell_type": "code",
   "execution_count": null,
   "metadata": {},
   "outputs": [],
   "source": [
    "df = pd.read_excel(file_path, sheet_name='Base Forecast', header=1, usecols=cols)"
   ]
  },
  {
   "cell_type": "code",
   "execution_count": null,
   "metadata": {},
   "outputs": [],
   "source": []
  },
  {
   "cell_type": "code",
   "execution_count": null,
   "metadata": {},
   "outputs": [],
   "source": [
    "forecast_n1.shape"
   ]
  },
  {
   "cell_type": "code",
   "execution_count": null,
   "metadata": {},
   "outputs": [],
   "source": []
  }
 ],
 "metadata": {
  "kernelspec": {
   "display_name": "Python 3",
   "language": "python",
   "name": "python3"
  },
  "language_info": {
   "codemirror_mode": {
    "name": "ipython",
    "version": 3
   },
   "file_extension": ".py",
   "mimetype": "text/x-python",
   "name": "python",
   "nbconvert_exporter": "python",
   "pygments_lexer": "ipython3",
   "version": "3.12.0"
  }
 },
 "nbformat": 4,
 "nbformat_minor": 2
}
