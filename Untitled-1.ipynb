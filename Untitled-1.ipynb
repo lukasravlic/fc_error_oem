{
 "cells": [
  {
   "cell_type": "code",
   "execution_count": 1,
   "metadata": {},
   "outputs": [],
   "source": [
    "import pandas as pd"
   ]
  },
  {
   "cell_type": "code",
   "execution_count": 11,
   "metadata": {},
   "outputs": [],
   "source": [
    "df = pd.read_excel(\"C:/Users/lravlic/Inchcape/Planificación y Compras Chile - Documentos/Planificación y Compras KPI-Reportes/Forecast Error (Python)/OEM/Base Forecast Error/Forecast Error OEM Septiembre 2024.xlsx\", sheet_name='Sheet1')"
   ]
  },
  {
   "cell_type": "code",
   "execution_count": 12,
   "metadata": {},
   "outputs": [
    {
     "data": {
      "text/plain": [
       "(209894, 25)"
      ]
     },
     "execution_count": 12,
     "metadata": {},
     "output_type": "execute_result"
    }
   ],
   "source": [
    "df.shape"
   ]
  },
  {
   "cell_type": "code",
   "execution_count": 3,
   "metadata": {},
   "outputs": [
    {
     "name": "stderr",
     "output_type": "stream",
     "text": [
      "C:\\Users\\lravlic\\AppData\\Local\\Temp\\ipykernel_7392\\2819891982.py:1: DtypeWarning: Columns (4,11,14,15) have mixed types. Specify dtype option on import or set low_memory=False.\n",
      "  mara = pd.read_csv(f\"C:/Users/lravlic/Inchcape/Planificación y Compras Chile - Documentos/Bases Indicadores en CSV 2024-09/MARA_R3.csv\")\n"
     ]
    }
   ],
   "source": [
    "mara = pd.read_csv(f\"C:/Users/lravlic/Inchcape/Planificación y Compras Chile - Documentos/Bases Indicadores en CSV 2024-09/MARA_R3.csv\")"
   ]
  },
  {
   "cell_type": "code",
   "execution_count": 5,
   "metadata": {},
   "outputs": [],
   "source": [
    "consolidado = pd.read_parquet(f\"C:/Users/lravlic/Inchcape/Planificación y Compras Chile - Documentos/Planificación y Compras KPI-Reportes/Forecast Error (Python)/OEM/Base Forecast Error/consolidado_fc_error.parquet\")\n"
   ]
  },
  {
   "cell_type": "code",
   "execution_count": 13,
   "metadata": {},
   "outputs": [
    {
     "data": {
      "text/plain": [
       "Index(['ID2', 'Periodo', 'UE_2', 'fc', 'fc_anas', 'Venta', 'Prom.',\n",
       "       'Total instock', 'MAPE_AJUSTADO', 'ERP', 'ERN', 'MAPE_ANASTASIA',\n",
       "       'ERP_ANASTASIA', 'ERN_ANASTASIA', 'WMAPE', 'WMAPE.1', 'Mes',\n",
       "       'Costo Promedio Ponderado', 'Costo de Venta', 'Forecast en Costo',\n",
       "       'MAPE Costo', 'ERP Costo', 'ERN Costo', 'WMAPE Costo', 'Input'],\n",
       "      dtype='object')"
      ]
     },
     "execution_count": 13,
     "metadata": {},
     "output_type": "execute_result"
    }
   ],
   "source": [
    "df.columns"
   ]
  },
  {
   "cell_type": "code",
   "execution_count": 14,
   "metadata": {},
   "outputs": [],
   "source": [
    "mara.drop_duplicates(subset='Material_R3', inplace=True)"
   ]
  },
  {
   "cell_type": "code",
   "execution_count": 15,
   "metadata": {},
   "outputs": [],
   "source": [
    "df_cruce = df.merge(mara[['Material_R3','Sector_dsc']], left_on='UE_2', right_on='Material_R3', how='left')"
   ]
  },
  {
   "cell_type": "code",
   "execution_count": 18,
   "metadata": {},
   "outputs": [],
   "source": [
    "df_cruce.drop('Material_R3', axis=1, inplace=True)"
   ]
  },
  {
   "cell_type": "code",
   "execution_count": 19,
   "metadata": {},
   "outputs": [
    {
     "data": {
      "text/plain": [
       "Sector_dsc\n",
       "Suzuki                  42771\n",
       "Mazda                   34476\n",
       "Renault                 22723\n",
       "Great Wall              20681\n",
       "JAC Cars                18655\n",
       "Changan                 15432\n",
       "Samsung                  3438\n",
       "Implemento Agrícola        27\n",
       "Accesorios                  7\n",
       "Lubricantes                 5\n",
       "Europard                    4\n",
       "Jacto                       4\n",
       "Repuesto Alternativo        3\n",
       "Rep.Alter.Maquinaria        2\n",
       "Hangcha                     2\n",
       "Otras Marcas                1\n",
       "Still                       1\n",
       "Geely                       1\n",
       "JAC Truck                   1\n",
       "Citroen                     1\n",
       "Kverneland                  1\n",
       "Name: count, dtype: int64"
      ]
     },
     "execution_count": 19,
     "metadata": {},
     "output_type": "execute_result"
    }
   ],
   "source": [
    "condicion = df_cruce['Sector_dsc'].isin(['Subaru', 'DFSK', 'GEELY', 'Geely'])\n",
    "\n",
    "# Reemplazar los valores de 'Total instock' con 5 cuando se cumpla la condición\n",
    "df_cruce[condicion, 'Total instock'] = 4"
   ]
  },
  {
   "cell_type": "code",
   "execution_count": 24,
   "metadata": {},
   "outputs": [],
   "source": [
    "df_final = pd.concat([consolidado, df_cruce])"
   ]
  }
 ],
 "metadata": {
  "kernelspec": {
   "display_name": "Python 3",
   "language": "python",
   "name": "python3"
  },
  "language_info": {
   "codemirror_mode": {
    "name": "ipython",
    "version": 3
   },
   "file_extension": ".py",
   "mimetype": "text/x-python",
   "name": "python",
   "nbconvert_exporter": "python",
   "pygments_lexer": "ipython3",
   "version": "3.12.0"
  }
 },
 "nbformat": 4,
 "nbformat_minor": 2
}
